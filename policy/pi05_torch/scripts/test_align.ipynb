{
 "cells": [
  {
   "cell_type": "code",
   "execution_count": null,
   "id": "0",
   "metadata": {},
   "outputs": [],
   "source": [
    "# jax_output_json_path = '/home/jovyan/projects/Pi/inference_output_jax.json'\n",
    "# pytorch_output_json_path = '/home/jovyan/projects/Pi/inference_output_pytorch.json'\n",
    "\n",
    "jax_output_json_path = '/home/jovyan/projects/Pi/inference_output_libero_jax.json'\n",
    "pytorch_output_json_path = '/home/jovyan/projects/Pi/inference_output_libero_torch.json'\n",
    "original_pytorch_output_json_path = '/home/jovyan/projects/Pi/inference_output_libero_torch_original.json'"
   ]
  },
  {
   "cell_type": "code",
   "execution_count": null,
   "id": "1",
   "metadata": {},
   "outputs": [],
   "source": [
    "import json\n",
    "import numpy as np\n",
    "\n",
    "# 读取JAX输出的JSON文件\n",
    "with open(jax_output_json_path, 'r') as f:\n",
    "    jax_data = json.load(f)\n",
    "\n",
    "# 读取PyTorch输出的JSON文件\n",
    "with open(pytorch_output_json_path, 'r') as f:\n",
    "    pytorch_data = json.load(f)\n",
    "\n",
    "with open(original_pytorch_output_json_path, 'r') as f: \n",
    "    original_pytorch_data = json.load(f)\n",
    "\n",
    "# 提取action_chunk\n",
    "jax_action_chunk = np.array(jax_data['action_chunk'])\n",
    "pytorch_action_chunk = np.array(pytorch_data['action_chunk'])\n",
    "original_pytorch_action_chunk = np.array(original_pytorch_data['action_chunk'])\n",
    "\n",
    "print(\"JAX Action Chunk Shape:\", jax_action_chunk.shape)\n",
    "print(\"PyTorch Action Chunk Shape:\", pytorch_action_chunk.shape)\n",
    "print(\"\\nFirst 3 actions from JAX:\")\n",
    "print(jax_action_chunk[:3])\n",
    "print(\"\\nFirst 3 actions from PyTorch:\")\n",
    "print(pytorch_action_chunk[:3])\n",
    "print(\"\\nFirst 3 actions from Original PyTorch:\")\n",
    "print(original_pytorch_action_chunk[:3])\n"
   ]
  },
  {
   "cell_type": "code",
   "execution_count": null,
   "id": "2",
   "metadata": {},
   "outputs": [],
   "source": [
    "# 比较两个action_chunk的差异\n",
    "# difference = np.abs(jax_action_chunk - pytorch_action_chunk)\n",
    "difference = np.abs(original_pytorch_action_chunk - pytorch_action_chunk)\n",
    "max_diff = np.max(difference)\n",
    "mean_diff = np.mean(difference)\n",
    "\n",
    "print(f\"Maximum absolute difference: {max_diff}\")\n",
    "print(f\"Mean absolute difference: {mean_diff}\")\n",
    "print(f\"Are they approximately equal? {np.allclose(jax_action_chunk, pytorch_action_chunk, rtol=1e-5, atol=1e-8)}\")\n",
    "\n",
    "# 显示差异最大的位置\n",
    "max_diff_idx = np.unravel_index(np.argmax(difference), difference.shape)\n",
    "print(f\"\\nMaximum difference at position {max_diff_idx}:\")\n",
    "print(f\"JAX value: {jax_action_chunk[max_diff_idx]}\")\n",
    "print(f\"PyTorch value: {pytorch_action_chunk[max_diff_idx]}\")\n",
    "print(f\"Difference: {difference[max_diff_idx]}\")\n"
   ]
  },
  {
   "cell_type": "code",
   "execution_count": null,
   "id": "3",
   "metadata": {},
   "outputs": [],
   "source": [
    "# difference_abs = np.abs(np.abs(jax_action_chunk) - np.abs(pytorch_action_chunk))\n",
    "difference_abs = np.abs(np.abs(original_pytorch_action_chunk) - np.abs(pytorch_action_chunk))\n",
    "max_diff_abs = np.max(difference_abs)\n",
    "mean_diff_abs = np.mean(difference_abs)\n",
    "\n",
    "print(f\"Maximum absolute difference: {max_diff_abs}\")\n",
    "print(f\"Mean absolute difference: {mean_diff_abs}\")\n",
    "print(f\"Are they approximately equal? {np.allclose(jax_action_chunk, pytorch_action_chunk, rtol=1e-5, atol=1e-8)}\")\n",
    "\n",
    "# 显示差异最大的位置\n",
    "max_diff_idx_abs = np.unravel_index(np.argmax(difference_abs), difference_abs.shape)\n",
    "print(f\"\\nMaximum difference at position {max_diff_idx_abs}:\")\n",
    "print(f\"JAX value: {jax_action_chunk[max_diff_idx_abs]}\")\n",
    "print(f\"PyTorch value: {pytorch_action_chunk[max_diff_idx_abs]}\")\n",
    "print(f\"Difference: {difference_abs[max_diff_idx_abs]}\")\n"
   ]
  },
  {
   "cell_type": "code",
   "execution_count": null,
   "id": "4",
   "metadata": {},
   "outputs": [],
   "source": [
    "# print('mean_diff_abs/np.abs(jax_action_chunk).mean()', mean_diff_abs/np.abs(jax_action_chunk).mean())\n",
    "# print('mean_diff/np.abs(jax_action_chunk).mean()', mean_diff/np.abs(jax_action_chunk).mean())\n",
    "print('mean_diff_abs/np.abs(original_pytorch_action_chunk).mean()', mean_diff_abs/np.abs(original_pytorch_action_chunk).mean())\n",
    "print('mean_diff/np.abs(original_pytorch_action_chunk).mean()', mean_diff/np.abs(original_pytorch_action_chunk).mean())"
   ]
  }
 ],
 "metadata": {
  "language_info": {
   "codemirror_mode": {
    "name": "ipython"
   },
   "file_extension": ".py",
   "mimetype": "text/x-python",
   "name": "python",
   "nbconvert_exporter": "python"
  }
 },
 "nbformat": 4,
 "nbformat_minor": 5
}
